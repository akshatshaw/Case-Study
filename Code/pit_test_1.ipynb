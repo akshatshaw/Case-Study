{
 "cells": [
  {
   "cell_type": "code",
   "execution_count": 1,
   "id": "9e27eb50",
   "metadata": {},
   "outputs": [
    {
     "name": "stderr",
     "output_type": "stream",
     "text": [
      "c:\\Users\\AKSHAT SHAW\\anaconda3\\Lib\\site-packages\\pandas\\core\\arrays\\masked.py:60: UserWarning: Pandas requires version '1.3.6' or newer of 'bottleneck' (version '1.3.5' currently installed).\n",
      "  from pandas.core import (\n"
     ]
    }
   ],
   "source": [
    "import pandas as pd\n",
    "import numpy as np"
   ]
  },
  {
   "cell_type": "code",
   "execution_count": 2,
   "id": "a199524f",
   "metadata": {},
   "outputs": [],
   "source": [
    "df = pd.read_csv(\"pit_edit_5.csv\", sep=\",\", encoding=\"utf-8\")"
   ]
  },
  {
   "cell_type": "code",
   "execution_count": 3,
   "id": "8162a391",
   "metadata": {},
   "outputs": [
    {
     "data": {
      "text/html": [
       "<div>\n",
       "<style scoped>\n",
       "    .dataframe tbody tr th:only-of-type {\n",
       "        vertical-align: middle;\n",
       "    }\n",
       "\n",
       "    .dataframe tbody tr th {\n",
       "        vertical-align: top;\n",
       "    }\n",
       "\n",
       "    .dataframe thead th {\n",
       "        text-align: right;\n",
       "    }\n",
       "</style>\n",
       "<table border=\"1\" class=\"dataframe\">\n",
       "  <thead>\n",
       "    <tr style=\"text-align: right;\">\n",
       "      <th></th>\n",
       "      <th>No.</th>\n",
       "      <th>Fe</th>\n",
       "      <th>Cr</th>\n",
       "      <th>Ni</th>\n",
       "      <th>Mo</th>\n",
       "      <th>W</th>\n",
       "      <th>N</th>\n",
       "      <th>Nb</th>\n",
       "      <th>C</th>\n",
       "      <th>Si</th>\n",
       "      <th>...</th>\n",
       "      <th>Test Solution</th>\n",
       "      <th>[Cl-] M</th>\n",
       "      <th>pH</th>\n",
       "      <th>Test Method</th>\n",
       "      <th>Scan Rate mV/s</th>\n",
       "      <th>Heat treatment</th>\n",
       "      <th>Microstructures</th>\n",
       "      <th>Comments</th>\n",
       "      <th>Reference</th>\n",
       "      <th>Material class</th>\n",
       "    </tr>\n",
       "  </thead>\n",
       "  <tbody>\n",
       "    <tr>\n",
       "      <th>0</th>\n",
       "      <td>1.0</td>\n",
       "      <td>69.71</td>\n",
       "      <td>18.0</td>\n",
       "      <td>10.0</td>\n",
       "      <td>NaN</td>\n",
       "      <td>0.0</td>\n",
       "      <td>0.0</td>\n",
       "      <td>0.0</td>\n",
       "      <td>0.03</td>\n",
       "      <td>1.0</td>\n",
       "      <td>...</td>\n",
       "      <td>300 ppm NaCl, pH 7.8</td>\n",
       "      <td>0.0051</td>\n",
       "      <td>7.8</td>\n",
       "      <td>Potentiodynamic Polarization with exposed area...</td>\n",
       "      <td>0.1</td>\n",
       "      <td>NaN</td>\n",
       "      <td>NaN</td>\n",
       "      <td>S30403 (304L)</td>\n",
       "      <td>49</td>\n",
       "      <td>Fe Alloy</td>\n",
       "    </tr>\n",
       "    <tr>\n",
       "      <th>1</th>\n",
       "      <td>2.0</td>\n",
       "      <td>69.71</td>\n",
       "      <td>18.0</td>\n",
       "      <td>10.0</td>\n",
       "      <td>NaN</td>\n",
       "      <td>0.0</td>\n",
       "      <td>0.0</td>\n",
       "      <td>0.0</td>\n",
       "      <td>0.03</td>\n",
       "      <td>1.0</td>\n",
       "      <td>...</td>\n",
       "      <td>500 ppm NaCl, pH 7.8</td>\n",
       "      <td>0.0086</td>\n",
       "      <td>7.8</td>\n",
       "      <td>Potentiodynamic Polarization with exposed area...</td>\n",
       "      <td>0.1</td>\n",
       "      <td>NaN</td>\n",
       "      <td>NaN</td>\n",
       "      <td>S30403 (304L)</td>\n",
       "      <td>49</td>\n",
       "      <td>Fe Alloy</td>\n",
       "    </tr>\n",
       "    <tr>\n",
       "      <th>2</th>\n",
       "      <td>3.0</td>\n",
       "      <td>69.71</td>\n",
       "      <td>18.0</td>\n",
       "      <td>10.0</td>\n",
       "      <td>NaN</td>\n",
       "      <td>0.0</td>\n",
       "      <td>0.0</td>\n",
       "      <td>0.0</td>\n",
       "      <td>0.03</td>\n",
       "      <td>1.0</td>\n",
       "      <td>...</td>\n",
       "      <td>1000 ppm NaCl, pH 7.8</td>\n",
       "      <td>0.0171</td>\n",
       "      <td>7.8</td>\n",
       "      <td>Potentiodynamic Polarization with exposed area...</td>\n",
       "      <td>0.1</td>\n",
       "      <td>NaN</td>\n",
       "      <td>NaN</td>\n",
       "      <td>S30403 (304L)</td>\n",
       "      <td>49</td>\n",
       "      <td>Fe Alloy</td>\n",
       "    </tr>\n",
       "    <tr>\n",
       "      <th>3</th>\n",
       "      <td>4.0</td>\n",
       "      <td>69.71</td>\n",
       "      <td>18.0</td>\n",
       "      <td>10.0</td>\n",
       "      <td>NaN</td>\n",
       "      <td>0.0</td>\n",
       "      <td>0.0</td>\n",
       "      <td>0.0</td>\n",
       "      <td>0.03</td>\n",
       "      <td>1.0</td>\n",
       "      <td>...</td>\n",
       "      <td>5000 ppm NaCl, pH 7.8</td>\n",
       "      <td>0.0856</td>\n",
       "      <td>7.8</td>\n",
       "      <td>Potentiodynamic Polarization with exposed area...</td>\n",
       "      <td>0.1</td>\n",
       "      <td>NaN</td>\n",
       "      <td>NaN</td>\n",
       "      <td>S30403 (304L)</td>\n",
       "      <td>49</td>\n",
       "      <td>Fe Alloy</td>\n",
       "    </tr>\n",
       "    <tr>\n",
       "      <th>4</th>\n",
       "      <td>5.0</td>\n",
       "      <td>69.71</td>\n",
       "      <td>18.0</td>\n",
       "      <td>10.0</td>\n",
       "      <td>NaN</td>\n",
       "      <td>0.0</td>\n",
       "      <td>NaN</td>\n",
       "      <td>0.0</td>\n",
       "      <td>0.03</td>\n",
       "      <td>1.0</td>\n",
       "      <td>...</td>\n",
       "      <td>Seawater Natural</td>\n",
       "      <td>0.5460</td>\n",
       "      <td>8.2</td>\n",
       "      <td>Potentiodynamic Polarization with exposed area...</td>\n",
       "      <td>0.1</td>\n",
       "      <td>NaN</td>\n",
       "      <td>NaN</td>\n",
       "      <td>S30403 (304L)</td>\n",
       "      <td>49</td>\n",
       "      <td>Fe Alloy</td>\n",
       "    </tr>\n",
       "  </tbody>\n",
       "</table>\n",
       "<p>5 rows × 37 columns</p>\n",
       "</div>"
      ],
      "text/plain": [
       "   No.     Fe    Cr    Ni  Mo    W    N   Nb     C   Si  ...  \\\n",
       "0  1.0  69.71  18.0  10.0 NaN  0.0  0.0  0.0  0.03  1.0  ...   \n",
       "1  2.0  69.71  18.0  10.0 NaN  0.0  0.0  0.0  0.03  1.0  ...   \n",
       "2  3.0  69.71  18.0  10.0 NaN  0.0  0.0  0.0  0.03  1.0  ...   \n",
       "3  4.0  69.71  18.0  10.0 NaN  0.0  0.0  0.0  0.03  1.0  ...   \n",
       "4  5.0  69.71  18.0  10.0 NaN  0.0  NaN  0.0  0.03  1.0  ...   \n",
       "\n",
       "           Test Solution  [Cl-] M   pH  \\\n",
       "0   300 ppm NaCl, pH 7.8   0.0051  7.8   \n",
       "1   500 ppm NaCl, pH 7.8   0.0086  7.8   \n",
       "2  1000 ppm NaCl, pH 7.8   0.0171  7.8   \n",
       "3  5000 ppm NaCl, pH 7.8   0.0856  7.8   \n",
       "4       Seawater Natural   0.5460  8.2   \n",
       "\n",
       "                                         Test Method  Scan Rate mV/s  \\\n",
       "0  Potentiodynamic Polarization with exposed area...             0.1   \n",
       "1  Potentiodynamic Polarization with exposed area...             0.1   \n",
       "2  Potentiodynamic Polarization with exposed area...             0.1   \n",
       "3  Potentiodynamic Polarization with exposed area...             0.1   \n",
       "4  Potentiodynamic Polarization with exposed area...             0.1   \n",
       "\n",
       "   Heat treatment  Microstructures       Comments  Reference  Material class  \n",
       "0             NaN              NaN  S30403 (304L)         49        Fe Alloy  \n",
       "1             NaN              NaN  S30403 (304L)         49        Fe Alloy  \n",
       "2             NaN              NaN  S30403 (304L)         49        Fe Alloy  \n",
       "3             NaN              NaN  S30403 (304L)         49        Fe Alloy  \n",
       "4             NaN              NaN  S30403 (304L)         49        Fe Alloy  \n",
       "\n",
       "[5 rows x 37 columns]"
      ]
     },
     "execution_count": 3,
     "metadata": {},
     "output_type": "execute_result"
    }
   ],
   "source": [
    "df.head()"
   ]
  },
  {
   "cell_type": "code",
   "execution_count": 4,
   "id": "2eb349f0",
   "metadata": {},
   "outputs": [
    {
     "name": "stdout",
     "output_type": "stream",
     "text": [
      "<class 'pandas.core.frame.DataFrame'>\n",
      "RangeIndex: 810 entries, 0 to 809\n",
      "Data columns (total 37 columns):\n",
      " #   Column           Non-Null Count  Dtype  \n",
      "---  ------           --------------  -----  \n",
      " 0   No.              810 non-null    float64\n",
      " 1   Fe               810 non-null    float64\n",
      " 2   Cr               805 non-null    float64\n",
      " 3   Ni               788 non-null    float64\n",
      " 4   Mo               779 non-null    float64\n",
      " 5   W                795 non-null    float64\n",
      " 6   N                274 non-null    float64\n",
      " 7   Nb               772 non-null    float64\n",
      " 8   C                368 non-null    float64\n",
      " 9   Si               357 non-null    float64\n",
      " 10  Mn               329 non-null    float64\n",
      " 11  Cu               156 non-null    float64\n",
      " 12  P                189 non-null    float64\n",
      " 13  S                199 non-null    float64\n",
      " 14  Al               734 non-null    float64\n",
      " 15  V                810 non-null    float64\n",
      " 16  Ta               810 non-null    float64\n",
      " 17  Re               810 non-null    float64\n",
      " 18  Ce               810 non-null    float64\n",
      " 19  Ti               805 non-null    float64\n",
      " 20  Co               810 non-null    float64\n",
      " 21  B                810 non-null    float64\n",
      " 22  Mg               810 non-null    float64\n",
      " 23  Y                810 non-null    float64\n",
      " 24  Gd               798 non-null    float64\n",
      " 25  Epit, mV (SCE)   760 non-null    float64\n",
      " 26  Test Temp (C)    727 non-null    float64\n",
      " 27  Test Solution    810 non-null    object \n",
      " 28  [Cl-] M          810 non-null    float64\n",
      " 29  pH               762 non-null    float64\n",
      " 30  Test Method      802 non-null    object \n",
      " 31  Scan Rate mV/s   664 non-null    float64\n",
      " 32  Heat treatment   434 non-null    object \n",
      " 33  Microstructures  227 non-null    object \n",
      " 34  Comments         685 non-null    object \n",
      " 35  Reference        810 non-null    int64  \n",
      " 36  Material class   810 non-null    object \n",
      "dtypes: float64(30), int64(1), object(6)\n",
      "memory usage: 234.3+ KB\n"
     ]
    }
   ],
   "source": [
    "df.info()"
   ]
  },
  {
   "cell_type": "code",
   "execution_count": 5,
   "id": "73e87b6e",
   "metadata": {},
   "outputs": [
    {
     "data": {
      "text/plain": [
       "800.0"
      ]
     },
     "execution_count": 5,
     "metadata": {},
     "output_type": "execute_result"
    }
   ],
   "source": [
    "df['Epit, mV (SCE)'][395]"
   ]
  },
  {
   "cell_type": "code",
   "execution_count": 6,
   "id": "ab9f34a8",
   "metadata": {},
   "outputs": [
    {
     "data": {
      "text/plain": [
       "(810, 37)"
      ]
     },
     "execution_count": 6,
     "metadata": {},
     "output_type": "execute_result"
    }
   ],
   "source": [
    "df.shape"
   ]
  },
  {
   "cell_type": "code",
   "execution_count": 7,
   "id": "746fec34",
   "metadata": {},
   "outputs": [],
   "source": [
    "num = df.select_dtypes(include=\"number\").columns\n",
    "cat = df.select_dtypes(exclude=\"number\").columns"
   ]
  },
  {
   "cell_type": "code",
   "execution_count": 8,
   "id": "d2efd00e",
   "metadata": {},
   "outputs": [
    {
     "data": {
      "text/plain": [
       "(Index(['No.', 'Fe', 'Cr', 'Ni', 'Mo', 'W', 'N', 'Nb', 'C', 'Si', 'Mn', 'Cu',\n",
       "        'P', 'S', 'Al', 'V', 'Ta', 'Re', 'Ce', 'Ti', 'Co', 'B', 'Mg', 'Y', 'Gd',\n",
       "        'Epit, mV (SCE)', 'Test Temp (C)', '[Cl-] M', 'pH', 'Scan Rate mV/s',\n",
       "        'Reference'],\n",
       "       dtype='object'),\n",
       " Index(['Test Solution', 'Test Method', 'Heat treatment', 'Microstructures',\n",
       "        'Comments', 'Material class'],\n",
       "       dtype='object'))"
      ]
     },
     "execution_count": 8,
     "metadata": {},
     "output_type": "execute_result"
    }
   ],
   "source": [
    "num , cat"
   ]
  },
  {
   "cell_type": "code",
   "execution_count": 9,
   "id": "5b55f317",
   "metadata": {
    "scrolled": false
   },
   "outputs": [
    {
     "data": {
      "text/plain": [
       "No.                 0\n",
       "Fe                  0\n",
       "Cr                  5\n",
       "Ni                 22\n",
       "Mo                 31\n",
       "W                  15\n",
       "N                 536\n",
       "Nb                 38\n",
       "C                 442\n",
       "Si                453\n",
       "Mn                481\n",
       "Cu                654\n",
       "P                 621\n",
       "S                 611\n",
       "Al                 76\n",
       "V                   0\n",
       "Ta                  0\n",
       "Re                  0\n",
       "Ce                  0\n",
       "Ti                  5\n",
       "Co                  0\n",
       "B                   0\n",
       "Mg                  0\n",
       "Y                   0\n",
       "Gd                 12\n",
       "Epit, mV (SCE)     50\n",
       "Test Temp (C)      83\n",
       "[Cl-] M             0\n",
       "pH                 48\n",
       "Scan Rate mV/s    146\n",
       "Reference           0\n",
       "dtype: int64"
      ]
     },
     "execution_count": 9,
     "metadata": {},
     "output_type": "execute_result"
    }
   ],
   "source": [
    "df[num].isnull().sum()"
   ]
  },
  {
   "cell_type": "markdown",
   "id": "a48302f4",
   "metadata": {},
   "source": [
    "## Replacing the N/A in the alloy percentage to 0"
   ]
  },
  {
   "cell_type": "code",
   "execution_count": 10,
   "id": "44a51283",
   "metadata": {},
   "outputs": [],
   "source": [
    "alloy_comp = ['Fe', 'Cr', 'Ni', 'Mo', 'W', 'N', 'Nb', 'C', 'Si', 'Mn', 'Cu',\n",
    "        'P', 'S', 'Al', 'V', 'Ta', 'Re', 'Ce', 'Ti', 'Co', 'B', 'Mg', 'Y', 'Gd']"
   ]
  },
  {
   "cell_type": "code",
   "execution_count": 11,
   "id": "17f167a5",
   "metadata": {},
   "outputs": [],
   "source": [
    "df[alloy_comp] = df[alloy_comp].fillna(0)"
   ]
  },
  {
   "cell_type": "code",
   "execution_count": 12,
   "id": "1c98c6e7",
   "metadata": {
    "scrolled": false
   },
   "outputs": [
    {
     "data": {
      "text/plain": [
       "No.                 0\n",
       "Fe                  0\n",
       "Cr                  0\n",
       "Ni                  0\n",
       "Mo                  0\n",
       "W                   0\n",
       "N                   0\n",
       "Nb                  0\n",
       "C                   0\n",
       "Si                  0\n",
       "Mn                  0\n",
       "Cu                  0\n",
       "P                   0\n",
       "S                   0\n",
       "Al                  0\n",
       "V                   0\n",
       "Ta                  0\n",
       "Re                  0\n",
       "Ce                  0\n",
       "Ti                  0\n",
       "Co                  0\n",
       "B                   0\n",
       "Mg                  0\n",
       "Y                   0\n",
       "Gd                  0\n",
       "Epit, mV (SCE)     50\n",
       "Test Temp (C)      83\n",
       "[Cl-] M             0\n",
       "pH                 48\n",
       "Scan Rate mV/s    146\n",
       "Reference           0\n",
       "dtype: int64"
      ]
     },
     "execution_count": 12,
     "metadata": {},
     "output_type": "execute_result"
    }
   ],
   "source": [
    "df[num].isnull().sum()"
   ]
  },
  {
   "cell_type": "code",
   "execution_count": 13,
   "id": "86ed7311",
   "metadata": {},
   "outputs": [],
   "source": [
    "df1= df.copy()"
   ]
  },
  {
   "cell_type": "code",
   "execution_count": 14,
   "id": "9e6c7879",
   "metadata": {},
   "outputs": [],
   "source": [
    "df1.replace([\"NA\"], np.nan, inplace=True)"
   ]
  },
  {
   "cell_type": "code",
   "execution_count": 16,
   "id": "ace3dfe0",
   "metadata": {
    "collapsed": true
   },
   "outputs": [
    {
     "name": "stderr",
     "output_type": "stream",
     "text": [
      "C:\\Users\\AKSHAT SHAW\\AppData\\Local\\Temp\\ipykernel_588\\1012678205.py:1: FutureWarning: A value is trying to be set on a copy of a DataFrame or Series through chained assignment using an inplace method.\n",
      "The behavior will change in pandas 3.0. This inplace method will never work because the intermediate object on which we are setting values always behaves as a copy.\n",
      "\n",
      "For example, when doing 'df[col].method(value, inplace=True)', try using 'df.method({col: value}, inplace=True)' or df[col] = df[col].method(value) instead, to perform the operation inplace on the original object.\n",
      "\n",
      "\n",
      "  df1['Test Temp (C)'].fillna(df1['Test Temp (C)'].mean(), inplace = True)\n",
      "C:\\Users\\AKSHAT SHAW\\AppData\\Local\\Temp\\ipykernel_588\\1012678205.py:2: FutureWarning: A value is trying to be set on a copy of a DataFrame or Series through chained assignment using an inplace method.\n",
      "The behavior will change in pandas 3.0. This inplace method will never work because the intermediate object on which we are setting values always behaves as a copy.\n",
      "\n",
      "For example, when doing 'df[col].method(value, inplace=True)', try using 'df.method({col: value}, inplace=True)' or df[col] = df[col].method(value) instead, to perform the operation inplace on the original object.\n",
      "\n",
      "\n",
      "  df1['Scan Rate mV/s'].fillna(df1['Scan Rate mV/s'].mean(), inplace = True)\n"
     ]
    }
   ],
   "source": [
    "df1['Test Temp (C)'].fillna(df1['Test Temp (C)'].mean(), inplace = True)\n",
    "df1['Scan Rate mV/s'].fillna(df1['Scan Rate mV/s'].mean(), inplace = True)"
   ]
  },
  {
   "cell_type": "code",
   "execution_count": 22,
   "id": "3276e6d7",
   "metadata": {},
   "outputs": [],
   "source": [
    "df1.dropna(subset= ['Epit, mV (SCE)', 'pH'],inplace = True)"
   ]
  },
  {
   "cell_type": "code",
   "execution_count": 23,
   "id": "f9b2677a",
   "metadata": {},
   "outputs": [
    {
     "data": {
      "text/plain": [
       "No.               0\n",
       "Fe                0\n",
       "Cr                0\n",
       "Ni                0\n",
       "Mo                0\n",
       "W                 0\n",
       "N                 0\n",
       "Nb                0\n",
       "C                 0\n",
       "Si                0\n",
       "Mn                0\n",
       "Cu                0\n",
       "P                 0\n",
       "S                 0\n",
       "Al                0\n",
       "V                 0\n",
       "Ta                0\n",
       "Re                0\n",
       "Ce                0\n",
       "Ti                0\n",
       "Co                0\n",
       "B                 0\n",
       "Mg                0\n",
       "Y                 0\n",
       "Gd                0\n",
       "Epit, mV (SCE)    0\n",
       "Test Temp (C)     0\n",
       "[Cl-] M           0\n",
       "pH                0\n",
       "Scan Rate mV/s    0\n",
       "Reference         0\n",
       "dtype: int64"
      ]
     },
     "execution_count": 23,
     "metadata": {},
     "output_type": "execute_result"
    }
   ],
   "source": [
    "df1[num].isnull().sum()"
   ]
  },
  {
   "cell_type": "code",
   "execution_count": 24,
   "id": "3e036fa1",
   "metadata": {},
   "outputs": [
    {
     "data": {
      "text/plain": [
       "(712, 37)"
      ]
     },
     "execution_count": 24,
     "metadata": {},
     "output_type": "execute_result"
    }
   ],
   "source": [
    "df1.shape"
   ]
  },
  {
   "cell_type": "code",
   "execution_count": 32,
   "id": "0dad526a",
   "metadata": {},
   "outputs": [],
   "source": [
    "df1[cat] = df1[cat].fillna(\"Not Available\")"
   ]
  },
  {
   "cell_type": "code",
   "execution_count": 33,
   "id": "bddb3796",
   "metadata": {},
   "outputs": [
    {
     "data": {
      "text/plain": [
       "Test Solution      0\n",
       "Test Method        0\n",
       "Heat treatment     0\n",
       "Microstructures    0\n",
       "Comments           0\n",
       "Material class     0\n",
       "dtype: int64"
      ]
     },
     "execution_count": 33,
     "metadata": {},
     "output_type": "execute_result"
    }
   ],
   "source": [
    "df1[cat].isnull().sum()"
   ]
  },
  {
   "cell_type": "code",
   "execution_count": 35,
   "id": "dab23f30",
   "metadata": {},
   "outputs": [
    {
     "data": {
      "text/html": [
       "<div>\n",
       "<style scoped>\n",
       "    .dataframe tbody tr th:only-of-type {\n",
       "        vertical-align: middle;\n",
       "    }\n",
       "\n",
       "    .dataframe tbody tr th {\n",
       "        vertical-align: top;\n",
       "    }\n",
       "\n",
       "    .dataframe thead th {\n",
       "        text-align: right;\n",
       "    }\n",
       "</style>\n",
       "<table border=\"1\" class=\"dataframe\">\n",
       "  <thead>\n",
       "    <tr style=\"text-align: right;\">\n",
       "      <th></th>\n",
       "      <th>No.</th>\n",
       "      <th>Fe</th>\n",
       "      <th>Cr</th>\n",
       "      <th>Ni</th>\n",
       "      <th>Mo</th>\n",
       "      <th>W</th>\n",
       "      <th>N</th>\n",
       "      <th>Nb</th>\n",
       "      <th>C</th>\n",
       "      <th>Si</th>\n",
       "      <th>...</th>\n",
       "      <th>Test Solution</th>\n",
       "      <th>[Cl-] M</th>\n",
       "      <th>pH</th>\n",
       "      <th>Test Method</th>\n",
       "      <th>Scan Rate mV/s</th>\n",
       "      <th>Heat treatment</th>\n",
       "      <th>Microstructures</th>\n",
       "      <th>Comments</th>\n",
       "      <th>Reference</th>\n",
       "      <th>Material class</th>\n",
       "    </tr>\n",
       "  </thead>\n",
       "  <tbody>\n",
       "    <tr>\n",
       "      <th>0</th>\n",
       "      <td>1.0</td>\n",
       "      <td>69.71</td>\n",
       "      <td>18.0</td>\n",
       "      <td>10.0</td>\n",
       "      <td>0.0</td>\n",
       "      <td>0.0</td>\n",
       "      <td>0.0</td>\n",
       "      <td>0.0</td>\n",
       "      <td>0.03</td>\n",
       "      <td>1.0</td>\n",
       "      <td>...</td>\n",
       "      <td>300 ppm NaCl, pH 7.8</td>\n",
       "      <td>0.0051</td>\n",
       "      <td>7.8</td>\n",
       "      <td>Potentiodynamic Polarization with exposed area...</td>\n",
       "      <td>0.1</td>\n",
       "      <td>Not Available</td>\n",
       "      <td>Not Available</td>\n",
       "      <td>S30403 (304L)</td>\n",
       "      <td>49</td>\n",
       "      <td>Fe Alloy</td>\n",
       "    </tr>\n",
       "    <tr>\n",
       "      <th>1</th>\n",
       "      <td>2.0</td>\n",
       "      <td>69.71</td>\n",
       "      <td>18.0</td>\n",
       "      <td>10.0</td>\n",
       "      <td>0.0</td>\n",
       "      <td>0.0</td>\n",
       "      <td>0.0</td>\n",
       "      <td>0.0</td>\n",
       "      <td>0.03</td>\n",
       "      <td>1.0</td>\n",
       "      <td>...</td>\n",
       "      <td>500 ppm NaCl, pH 7.8</td>\n",
       "      <td>0.0086</td>\n",
       "      <td>7.8</td>\n",
       "      <td>Potentiodynamic Polarization with exposed area...</td>\n",
       "      <td>0.1</td>\n",
       "      <td>Not Available</td>\n",
       "      <td>Not Available</td>\n",
       "      <td>S30403 (304L)</td>\n",
       "      <td>49</td>\n",
       "      <td>Fe Alloy</td>\n",
       "    </tr>\n",
       "    <tr>\n",
       "      <th>2</th>\n",
       "      <td>3.0</td>\n",
       "      <td>69.71</td>\n",
       "      <td>18.0</td>\n",
       "      <td>10.0</td>\n",
       "      <td>0.0</td>\n",
       "      <td>0.0</td>\n",
       "      <td>0.0</td>\n",
       "      <td>0.0</td>\n",
       "      <td>0.03</td>\n",
       "      <td>1.0</td>\n",
       "      <td>...</td>\n",
       "      <td>1000 ppm NaCl, pH 7.8</td>\n",
       "      <td>0.0171</td>\n",
       "      <td>7.8</td>\n",
       "      <td>Potentiodynamic Polarization with exposed area...</td>\n",
       "      <td>0.1</td>\n",
       "      <td>Not Available</td>\n",
       "      <td>Not Available</td>\n",
       "      <td>S30403 (304L)</td>\n",
       "      <td>49</td>\n",
       "      <td>Fe Alloy</td>\n",
       "    </tr>\n",
       "    <tr>\n",
       "      <th>3</th>\n",
       "      <td>4.0</td>\n",
       "      <td>69.71</td>\n",
       "      <td>18.0</td>\n",
       "      <td>10.0</td>\n",
       "      <td>0.0</td>\n",
       "      <td>0.0</td>\n",
       "      <td>0.0</td>\n",
       "      <td>0.0</td>\n",
       "      <td>0.03</td>\n",
       "      <td>1.0</td>\n",
       "      <td>...</td>\n",
       "      <td>5000 ppm NaCl, pH 7.8</td>\n",
       "      <td>0.0856</td>\n",
       "      <td>7.8</td>\n",
       "      <td>Potentiodynamic Polarization with exposed area...</td>\n",
       "      <td>0.1</td>\n",
       "      <td>Not Available</td>\n",
       "      <td>Not Available</td>\n",
       "      <td>S30403 (304L)</td>\n",
       "      <td>49</td>\n",
       "      <td>Fe Alloy</td>\n",
       "    </tr>\n",
       "    <tr>\n",
       "      <th>4</th>\n",
       "      <td>5.0</td>\n",
       "      <td>69.71</td>\n",
       "      <td>18.0</td>\n",
       "      <td>10.0</td>\n",
       "      <td>0.0</td>\n",
       "      <td>0.0</td>\n",
       "      <td>0.0</td>\n",
       "      <td>0.0</td>\n",
       "      <td>0.03</td>\n",
       "      <td>1.0</td>\n",
       "      <td>...</td>\n",
       "      <td>Seawater Natural</td>\n",
       "      <td>0.5460</td>\n",
       "      <td>8.2</td>\n",
       "      <td>Potentiodynamic Polarization with exposed area...</td>\n",
       "      <td>0.1</td>\n",
       "      <td>Not Available</td>\n",
       "      <td>Not Available</td>\n",
       "      <td>S30403 (304L)</td>\n",
       "      <td>49</td>\n",
       "      <td>Fe Alloy</td>\n",
       "    </tr>\n",
       "  </tbody>\n",
       "</table>\n",
       "<p>5 rows × 37 columns</p>\n",
       "</div>"
      ],
      "text/plain": [
       "   No.     Fe    Cr    Ni   Mo    W    N   Nb     C   Si  ...  \\\n",
       "0  1.0  69.71  18.0  10.0  0.0  0.0  0.0  0.0  0.03  1.0  ...   \n",
       "1  2.0  69.71  18.0  10.0  0.0  0.0  0.0  0.0  0.03  1.0  ...   \n",
       "2  3.0  69.71  18.0  10.0  0.0  0.0  0.0  0.0  0.03  1.0  ...   \n",
       "3  4.0  69.71  18.0  10.0  0.0  0.0  0.0  0.0  0.03  1.0  ...   \n",
       "4  5.0  69.71  18.0  10.0  0.0  0.0  0.0  0.0  0.03  1.0  ...   \n",
       "\n",
       "           Test Solution  [Cl-] M   pH  \\\n",
       "0   300 ppm NaCl, pH 7.8   0.0051  7.8   \n",
       "1   500 ppm NaCl, pH 7.8   0.0086  7.8   \n",
       "2  1000 ppm NaCl, pH 7.8   0.0171  7.8   \n",
       "3  5000 ppm NaCl, pH 7.8   0.0856  7.8   \n",
       "4       Seawater Natural   0.5460  8.2   \n",
       "\n",
       "                                         Test Method  Scan Rate mV/s  \\\n",
       "0  Potentiodynamic Polarization with exposed area...             0.1   \n",
       "1  Potentiodynamic Polarization with exposed area...             0.1   \n",
       "2  Potentiodynamic Polarization with exposed area...             0.1   \n",
       "3  Potentiodynamic Polarization with exposed area...             0.1   \n",
       "4  Potentiodynamic Polarization with exposed area...             0.1   \n",
       "\n",
       "   Heat treatment  Microstructures       Comments  Reference  Material class  \n",
       "0   Not Available    Not Available  S30403 (304L)         49        Fe Alloy  \n",
       "1   Not Available    Not Available  S30403 (304L)         49        Fe Alloy  \n",
       "2   Not Available    Not Available  S30403 (304L)         49        Fe Alloy  \n",
       "3   Not Available    Not Available  S30403 (304L)         49        Fe Alloy  \n",
       "4   Not Available    Not Available  S30403 (304L)         49        Fe Alloy  \n",
       "\n",
       "[5 rows x 37 columns]"
      ]
     },
     "execution_count": 35,
     "metadata": {},
     "output_type": "execute_result"
    }
   ],
   "source": [
    "df1.head()"
   ]
  },
  {
   "cell_type": "code",
   "execution_count": 36,
   "id": "874d1320",
   "metadata": {},
   "outputs": [],
   "source": [
    "df1.to_csv(\"pit_clean_1.csv\", index=False)"
   ]
  },
  {
   "cell_type": "code",
   "execution_count": null,
   "id": "9b899a64",
   "metadata": {},
   "outputs": [],
   "source": []
  }
 ],
 "metadata": {
  "kernelspec": {
   "display_name": "base",
   "language": "python",
   "name": "python3"
  },
  "language_info": {
   "codemirror_mode": {
    "name": "ipython",
    "version": 3
   },
   "file_extension": ".py",
   "mimetype": "text/x-python",
   "name": "python",
   "nbconvert_exporter": "python",
   "pygments_lexer": "ipython3",
   "version": "3.11.5"
  }
 },
 "nbformat": 4,
 "nbformat_minor": 5
}
