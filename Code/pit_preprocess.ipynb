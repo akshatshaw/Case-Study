{
 "cells": [
  {
   "cell_type": "code",
   "execution_count": 1,
   "id": "9e27eb50",
   "metadata": {},
   "outputs": [
    {
     "name": "stderr",
     "output_type": "stream",
     "text": [
      "c:\\Users\\AKSHAT SHAW\\anaconda3\\Lib\\site-packages\\pandas\\core\\arrays\\masked.py:60: UserWarning: Pandas requires version '1.3.6' or newer of 'bottleneck' (version '1.3.5' currently installed).\n",
      "  from pandas.core import (\n"
     ]
    }
   ],
   "source": [
    "import pandas as pd\n",
    "import numpy as np"
   ]
  },
  {
   "cell_type": "code",
   "execution_count": 2,
   "id": "a199524f",
   "metadata": {},
   "outputs": [],
   "source": [
    "df = pd.read_csv(\"pit_edit_5.csv\", sep=\",\", encoding=\"utf-8\")"
   ]
  },
  {
   "cell_type": "code",
   "execution_count": 3,
   "id": "8162a391",
   "metadata": {},
   "outputs": [
    {
     "data": {
      "text/html": [
       "<div>\n",
       "<style scoped>\n",
       "    .dataframe tbody tr th:only-of-type {\n",
       "        vertical-align: middle;\n",
       "    }\n",
       "\n",
       "    .dataframe tbody tr th {\n",
       "        vertical-align: top;\n",
       "    }\n",
       "\n",
       "    .dataframe thead th {\n",
       "        text-align: right;\n",
       "    }\n",
       "</style>\n",
       "<table border=\"1\" class=\"dataframe\">\n",
       "  <thead>\n",
       "    <tr style=\"text-align: right;\">\n",
       "      <th></th>\n",
       "      <th>No.</th>\n",
       "      <th>Fe</th>\n",
       "      <th>Cr</th>\n",
       "      <th>Ni</th>\n",
       "      <th>Mo</th>\n",
       "      <th>W</th>\n",
       "      <th>N</th>\n",
       "      <th>Nb</th>\n",
       "      <th>C</th>\n",
       "      <th>Si</th>\n",
       "      <th>...</th>\n",
       "      <th>Test Solution</th>\n",
       "      <th>[Cl-] M</th>\n",
       "      <th>pH</th>\n",
       "      <th>Test Method</th>\n",
       "      <th>Scan Rate mV/s</th>\n",
       "      <th>Heat treatment</th>\n",
       "      <th>Microstructures</th>\n",
       "      <th>Comments</th>\n",
       "      <th>Reference</th>\n",
       "      <th>Material class</th>\n",
       "    </tr>\n",
       "  </thead>\n",
       "  <tbody>\n",
       "    <tr>\n",
       "      <th>0</th>\n",
       "      <td>1.0</td>\n",
       "      <td>69.71</td>\n",
       "      <td>18.0</td>\n",
       "      <td>10.0</td>\n",
       "      <td>NaN</td>\n",
       "      <td>0.0</td>\n",
       "      <td>0.0</td>\n",
       "      <td>0.0</td>\n",
       "      <td>0.03</td>\n",
       "      <td>1.0</td>\n",
       "      <td>...</td>\n",
       "      <td>300 ppm NaCl, pH 7.8</td>\n",
       "      <td>0.0051</td>\n",
       "      <td>7.8</td>\n",
       "      <td>Potentiodynamic Polarization with exposed area...</td>\n",
       "      <td>0.10</td>\n",
       "      <td>NaN</td>\n",
       "      <td>NaN</td>\n",
       "      <td>S30403 (304L)</td>\n",
       "      <td>49</td>\n",
       "      <td>Fe Alloy</td>\n",
       "    </tr>\n",
       "    <tr>\n",
       "      <th>1</th>\n",
       "      <td>2.0</td>\n",
       "      <td>69.71</td>\n",
       "      <td>18.0</td>\n",
       "      <td>10.0</td>\n",
       "      <td>NaN</td>\n",
       "      <td>0.0</td>\n",
       "      <td>0.0</td>\n",
       "      <td>0.0</td>\n",
       "      <td>0.03</td>\n",
       "      <td>1.0</td>\n",
       "      <td>...</td>\n",
       "      <td>500 ppm NaCl, pH 7.8</td>\n",
       "      <td>0.0086</td>\n",
       "      <td>7.8</td>\n",
       "      <td>Potentiodynamic Polarization with exposed area...</td>\n",
       "      <td>0.10</td>\n",
       "      <td>NaN</td>\n",
       "      <td>NaN</td>\n",
       "      <td>S30403 (304L)</td>\n",
       "      <td>49</td>\n",
       "      <td>Fe Alloy</td>\n",
       "    </tr>\n",
       "    <tr>\n",
       "      <th>2</th>\n",
       "      <td>3.0</td>\n",
       "      <td>69.71</td>\n",
       "      <td>18.0</td>\n",
       "      <td>10.0</td>\n",
       "      <td>NaN</td>\n",
       "      <td>0.0</td>\n",
       "      <td>0.0</td>\n",
       "      <td>0.0</td>\n",
       "      <td>0.03</td>\n",
       "      <td>1.0</td>\n",
       "      <td>...</td>\n",
       "      <td>1000 ppm NaCl, pH 7.8</td>\n",
       "      <td>0.0171</td>\n",
       "      <td>7.8</td>\n",
       "      <td>Potentiodynamic Polarization with exposed area...</td>\n",
       "      <td>0.10</td>\n",
       "      <td>NaN</td>\n",
       "      <td>NaN</td>\n",
       "      <td>S30403 (304L)</td>\n",
       "      <td>49</td>\n",
       "      <td>Fe Alloy</td>\n",
       "    </tr>\n",
       "    <tr>\n",
       "      <th>3</th>\n",
       "      <td>4.0</td>\n",
       "      <td>69.71</td>\n",
       "      <td>18.0</td>\n",
       "      <td>10.0</td>\n",
       "      <td>NaN</td>\n",
       "      <td>0.0</td>\n",
       "      <td>0.0</td>\n",
       "      <td>0.0</td>\n",
       "      <td>0.03</td>\n",
       "      <td>1.0</td>\n",
       "      <td>...</td>\n",
       "      <td>5000 ppm NaCl, pH 7.8</td>\n",
       "      <td>0.0856</td>\n",
       "      <td>7.8</td>\n",
       "      <td>Potentiodynamic Polarization with exposed area...</td>\n",
       "      <td>0.10</td>\n",
       "      <td>NaN</td>\n",
       "      <td>NaN</td>\n",
       "      <td>S30403 (304L)</td>\n",
       "      <td>49</td>\n",
       "      <td>Fe Alloy</td>\n",
       "    </tr>\n",
       "    <tr>\n",
       "      <th>4</th>\n",
       "      <td>5.0</td>\n",
       "      <td>69.71</td>\n",
       "      <td>18.0</td>\n",
       "      <td>10.0</td>\n",
       "      <td>NaN</td>\n",
       "      <td>0.0</td>\n",
       "      <td>NaN</td>\n",
       "      <td>0.0</td>\n",
       "      <td>0.03</td>\n",
       "      <td>1.0</td>\n",
       "      <td>...</td>\n",
       "      <td>Seawater Natural</td>\n",
       "      <td>0.5460</td>\n",
       "      <td>8.2</td>\n",
       "      <td>Potentiodynamic Polarization with exposed area...</td>\n",
       "      <td>0.10</td>\n",
       "      <td>NaN</td>\n",
       "      <td>NaN</td>\n",
       "      <td>S30403 (304L)</td>\n",
       "      <td>49</td>\n",
       "      <td>Fe Alloy</td>\n",
       "    </tr>\n",
       "  </tbody>\n",
       "</table>\n",
       "<p>5 rows × 37 columns</p>\n",
       "</div>"
      ],
      "text/plain": [
       "   No.     Fe    Cr    Ni  Mo    W    N   Nb     C   Si  ...  \\\n",
       "0  1.0  69.71  18.0  10.0 NaN  0.0  0.0  0.0  0.03  1.0  ...   \n",
       "1  2.0  69.71  18.0  10.0 NaN  0.0  0.0  0.0  0.03  1.0  ...   \n",
       "2  3.0  69.71  18.0  10.0 NaN  0.0  0.0  0.0  0.03  1.0  ...   \n",
       "3  4.0  69.71  18.0  10.0 NaN  0.0  0.0  0.0  0.03  1.0  ...   \n",
       "4  5.0  69.71  18.0  10.0 NaN  0.0  NaN  0.0  0.03  1.0  ...   \n",
       "\n",
       "           Test Solution  [Cl-] M   pH  \\\n",
       "0   300 ppm NaCl, pH 7.8   0.0051  7.8   \n",
       "1   500 ppm NaCl, pH 7.8   0.0086  7.8   \n",
       "2  1000 ppm NaCl, pH 7.8   0.0171  7.8   \n",
       "3  5000 ppm NaCl, pH 7.8   0.0856  7.8   \n",
       "4       Seawater Natural   0.5460  8.2   \n",
       "\n",
       "                                         Test Method  Scan Rate mV/s  \\\n",
       "0  Potentiodynamic Polarization with exposed area...            0.10   \n",
       "1  Potentiodynamic Polarization with exposed area...            0.10   \n",
       "2  Potentiodynamic Polarization with exposed area...            0.10   \n",
       "3  Potentiodynamic Polarization with exposed area...            0.10   \n",
       "4  Potentiodynamic Polarization with exposed area...            0.10   \n",
       "\n",
       "   Heat treatment  Microstructures       Comments  Reference  Material class  \n",
       "0             NaN              NaN  S30403 (304L)         49        Fe Alloy  \n",
       "1             NaN              NaN  S30403 (304L)         49        Fe Alloy  \n",
       "2             NaN              NaN  S30403 (304L)         49        Fe Alloy  \n",
       "3             NaN              NaN  S30403 (304L)         49        Fe Alloy  \n",
       "4             NaN              NaN  S30403 (304L)         49        Fe Alloy  \n",
       "\n",
       "[5 rows x 37 columns]"
      ]
     },
     "execution_count": 3,
     "metadata": {},
     "output_type": "execute_result"
    }
   ],
   "source": [
    "df.head()"
   ]
  },
  {
   "cell_type": "code",
   "execution_count": 4,
   "id": "2eb349f0",
   "metadata": {},
   "outputs": [
    {
     "name": "stdout",
     "output_type": "stream",
     "text": [
      "<class 'pandas.core.frame.DataFrame'>\n",
      "RangeIndex: 810 entries, 0 to 809\n",
      "Data columns (total 37 columns):\n",
      " #   Column           Non-Null Count  Dtype  \n",
      "---  ------           --------------  -----  \n",
      " 0   No.              810 non-null    float64\n",
      " 1   Fe               810 non-null    float64\n",
      " 2   Cr               805 non-null    float64\n",
      " 3   Ni               788 non-null    float64\n",
      " 4   Mo               779 non-null    float64\n",
      " 5   W                795 non-null    float64\n",
      " 6   N                274 non-null    float64\n",
      " 7   Nb               772 non-null    float64\n",
      " 8   C                368 non-null    float64\n",
      " 9   Si               357 non-null    float64\n",
      " 10  Mn               329 non-null    float64\n",
      " 11  Cu               156 non-null    float64\n",
      " 12  P                189 non-null    float64\n",
      " 13  S                199 non-null    float64\n",
      " 14  Al               734 non-null    float64\n",
      " 15  V                810 non-null    float64\n",
      " 16  Ta               810 non-null    float64\n",
      " 17  Re               810 non-null    float64\n",
      " 18  Ce               810 non-null    float64\n",
      " 19  Ti               805 non-null    float64\n",
      " 20  Co               810 non-null    float64\n",
      " 21  B                810 non-null    float64\n",
      " 22  Mg               810 non-null    float64\n",
      " 23  Y                810 non-null    float64\n",
      " 24  Gd               798 non-null    float64\n",
      " 25  Epit, mV (SCE)   760 non-null    float64\n",
      " 26  Test Temp (C)    727 non-null    float64\n",
      " 27  Test Solution    810 non-null    object \n",
      " 28  [Cl-] M          810 non-null    float64\n",
      " 29  pH               762 non-null    float64\n",
      " 30  Test Method      802 non-null    object \n",
      " 31  Scan Rate mV/s   673 non-null    object \n",
      " 32  Heat treatment   434 non-null    object \n",
      " 33  Microstructures  227 non-null    object \n",
      " 34  Comments         685 non-null    object \n",
      " 35  Reference        810 non-null    int64  \n",
      " 36  Material class   810 non-null    object \n",
      "dtypes: float64(29), int64(1), object(7)\n",
      "memory usage: 234.3+ KB\n"
     ]
    }
   ],
   "source": [
    "df.info()"
   ]
  },
  {
   "cell_type": "code",
   "execution_count": 5,
   "id": "73e87b6e",
   "metadata": {},
   "outputs": [
    {
     "data": {
      "text/plain": [
       "800.0"
      ]
     },
     "execution_count": 5,
     "metadata": {},
     "output_type": "execute_result"
    }
   ],
   "source": [
    "df['Epit, mV (SCE)'][395]"
   ]
  },
  {
   "cell_type": "code",
   "execution_count": 6,
   "id": "ab9f34a8",
   "metadata": {},
   "outputs": [
    {
     "data": {
      "text/plain": [
       "(810, 37)"
      ]
     },
     "execution_count": 6,
     "metadata": {},
     "output_type": "execute_result"
    }
   ],
   "source": [
    "df.shape"
   ]
  },
  {
   "cell_type": "code",
   "execution_count": 7,
   "id": "746fec34",
   "metadata": {},
   "outputs": [],
   "source": [
    "num = df.select_dtypes(include=\"number\").columns\n",
    "cat = df.select_dtypes(exclude=\"number\").columns"
   ]
  },
  {
   "cell_type": "code",
   "execution_count": 8,
   "id": "d2efd00e",
   "metadata": {},
   "outputs": [
    {
     "data": {
      "text/plain": [
       "(Index(['No.', 'Fe', 'Cr', 'Ni', 'Mo', 'W', 'N', 'Nb', 'C', 'Si', 'Mn', 'Cu',\n",
       "        'P', 'S', 'Al', 'V', 'Ta', 'Re', 'Ce', 'Ti', 'Co', 'B', 'Mg', 'Y', 'Gd',\n",
       "        'Epit, mV (SCE)', 'Test Temp (C)', '[Cl-] M', 'pH', 'Reference'],\n",
       "       dtype='object'),\n",
       " Index(['Test Solution', 'Test Method', 'Scan Rate mV/s', 'Heat treatment',\n",
       "        'Microstructures', 'Comments', 'Material class'],\n",
       "       dtype='object'))"
      ]
     },
     "execution_count": 8,
     "metadata": {},
     "output_type": "execute_result"
    }
   ],
   "source": [
    "num , cat"
   ]
  },
  {
   "cell_type": "code",
   "execution_count": 9,
   "id": "5b55f317",
   "metadata": {
    "scrolled": false
   },
   "outputs": [
    {
     "data": {
      "text/plain": [
       "No.                 0\n",
       "Fe                  0\n",
       "Cr                  5\n",
       "Ni                 22\n",
       "Mo                 31\n",
       "W                  15\n",
       "N                 536\n",
       "Nb                 38\n",
       "C                 442\n",
       "Si                453\n",
       "Mn                481\n",
       "Cu                654\n",
       "P                 621\n",
       "S                 611\n",
       "Al                 76\n",
       "V                   0\n",
       "Ta                  0\n",
       "Re                  0\n",
       "Ce                  0\n",
       "Ti                  5\n",
       "Co                  0\n",
       "B                   0\n",
       "Mg                  0\n",
       "Y                   0\n",
       "Gd                 12\n",
       "Epit, mV (SCE)     50\n",
       "Test Temp (C)      83\n",
       "[Cl-] M             0\n",
       "pH                 48\n",
       "Reference           0\n",
       "dtype: int64"
      ]
     },
     "execution_count": 9,
     "metadata": {},
     "output_type": "execute_result"
    }
   ],
   "source": [
    "df[num].isnull().sum()"
   ]
  },
  {
   "cell_type": "markdown",
   "id": "a48302f4",
   "metadata": {},
   "source": [
    "## Replacing the N/A in the alloy percentage to 0"
   ]
  },
  {
   "cell_type": "code",
   "execution_count": 10,
   "id": "44a51283",
   "metadata": {},
   "outputs": [],
   "source": [
    "alloy_comp = ['Fe', 'Cr', 'Ni', 'Mo', 'W', 'N', 'Nb', 'C', 'Si', 'Mn', 'Cu',\n",
    "        'P', 'S', 'Al', 'V', 'Ta', 'Re', 'Ce', 'Ti', 'Co', 'B', 'Mg', 'Y', 'Gd']"
   ]
  },
  {
   "cell_type": "code",
   "execution_count": 11,
   "id": "17f167a5",
   "metadata": {},
   "outputs": [],
   "source": [
    "df[alloy_comp] = df[alloy_comp].fillna(0)"
   ]
  },
  {
   "cell_type": "code",
   "execution_count": 12,
   "id": "1c98c6e7",
   "metadata": {
    "scrolled": false
   },
   "outputs": [
    {
     "data": {
      "text/plain": [
       "No.                0\n",
       "Fe                 0\n",
       "Cr                 0\n",
       "Ni                 0\n",
       "Mo                 0\n",
       "W                  0\n",
       "N                  0\n",
       "Nb                 0\n",
       "C                  0\n",
       "Si                 0\n",
       "Mn                 0\n",
       "Cu                 0\n",
       "P                  0\n",
       "S                  0\n",
       "Al                 0\n",
       "V                  0\n",
       "Ta                 0\n",
       "Re                 0\n",
       "Ce                 0\n",
       "Ti                 0\n",
       "Co                 0\n",
       "B                  0\n",
       "Mg                 0\n",
       "Y                  0\n",
       "Gd                 0\n",
       "Epit, mV (SCE)    50\n",
       "Test Temp (C)     83\n",
       "[Cl-] M            0\n",
       "pH                48\n",
       "Reference          0\n",
       "dtype: int64"
      ]
     },
     "execution_count": 12,
     "metadata": {},
     "output_type": "execute_result"
    }
   ],
   "source": [
    "df[num].isnull().sum()"
   ]
  },
  {
   "cell_type": "code",
   "execution_count": 21,
   "id": "86ed7311",
   "metadata": {},
   "outputs": [],
   "source": [
    "df1= df.copy()"
   ]
  },
  {
   "cell_type": "code",
   "execution_count": 22,
   "id": "9e6c7879",
   "metadata": {},
   "outputs": [],
   "source": [
    "df1.replace([\"NA\"], np.nan, inplace=True)"
   ]
  },
  {
   "cell_type": "code",
   "execution_count": 29,
   "id": "ae447892",
   "metadata": {},
   "outputs": [],
   "source": [
    "df1['Scan Rate mV/s'] = df1['Scan Rate mV/s'].replace(\"20mV steps by manual increament\", np.nan).astype(float)"
   ]
  },
  {
   "cell_type": "code",
   "execution_count": 30,
   "id": "ace3dfe0",
   "metadata": {
    "collapsed": true
   },
   "outputs": [],
   "source": [
    "df1['Test Temp (C)']= df1['Test Temp (C)'].fillna(df1['Test Temp (C)'].mean())\n",
    "df1['Scan Rate mV/s']=df1['Scan Rate mV/s'].fillna(df1['Scan Rate mV/s'].mean())"
   ]
  },
  {
   "cell_type": "code",
   "execution_count": 38,
   "id": "4ef4fc2e",
   "metadata": {},
   "outputs": [
    {
     "name": "stderr",
     "output_type": "stream",
     "text": [
      "c:\\Users\\AKSHAT SHAW\\anaconda3\\Lib\\site-packages\\seaborn\\_oldcore.py:1119: FutureWarning: use_inf_as_na option is deprecated and will be removed in a future version. Convert inf values to NaN before operating instead.\n",
      "  with pd.option_context('mode.use_inf_as_na', True):\n"
     ]
    },
    {
     "data": {
      "image/png": "[encoded data removed]",
      "text/plain": [
       "<Figure size 640x480 with 1 Axes>"
      ]
     },
     "metadata": {},
     "output_type": "display_data"
    }
   ],
   "source": [
    "import matplotlib.pyplot as plt\n",
    "import seaborn as sns\n",
    "sns.histplot(df1['Scan Rate mV/s'])\n",
    "plt.show()"
   ]
  },
  {
   "cell_type": "code",
   "execution_count": 43,
   "id": "9692db7f",
   "metadata": {},
   "outputs": [
    {
     "name": "stderr",
     "output_type": "stream",
     "text": [
      "c:\\Users\\AKSHAT SHAW\\anaconda3\\Lib\\site-packages\\seaborn\\_oldcore.py:1119: FutureWarning: use_inf_as_na option is deprecated and will be removed in a future version. Convert inf values to NaN before operating instead.\n",
      "  with pd.option_context('mode.use_inf_as_na', True):\n"
     ]
    },
    {
     "data": {
      "image/png": "[encoded data removed]",
      "text/plain": [
       "<Figure size 640x480 with 1 Axes>"
      ]
     },
     "metadata": {},
     "output_type": "display_data"
    }
   ],
   "source": [
    "sns.histplot(df1['Test Temp (C)'])\n",
    "plt.show()"
   ]
  },
  {
   "cell_type": "code",
   "execution_count": 44,
   "id": "3276e6d7",
   "metadata": {},
   "outputs": [],
   "source": [
    "df1.dropna(subset= ['Epit, mV (SCE)', 'pH'],inplace = True)"
   ]
  },
  {
   "cell_type": "code",
   "execution_count": 45,
   "id": "f9b2677a",
   "metadata": {},
   "outputs": [
    {
     "data": {
      "text/plain": [
       "No.               0\n",
       "Fe                0\n",
       "Cr                0\n",
       "Ni                0\n",
       "Mo                0\n",
       "W                 0\n",
       "N                 0\n",
       "Nb                0\n",
       "C                 0\n",
       "Si                0\n",
       "Mn                0\n",
       "Cu                0\n",
       "P                 0\n",
       "S                 0\n",
       "Al                0\n",
       "V                 0\n",
       "Ta                0\n",
       "Re                0\n",
       "Ce                0\n",
       "Ti                0\n",
       "Co                0\n",
       "B                 0\n",
       "Mg                0\n",
       "Y                 0\n",
       "Gd                0\n",
       "Epit, mV (SCE)    0\n",
       "Test Temp (C)     0\n",
       "[Cl-] M           0\n",
       "pH                0\n",
       "Reference         0\n",
       "dtype: int64"
      ]
     },
     "execution_count": 45,
     "metadata": {},
     "output_type": "execute_result"
    }
   ],
   "source": [
    "df1[num].isnull().sum()"
   ]
  },
  {
   "cell_type": "code",
   "execution_count": 46,
   "id": "3e036fa1",
   "metadata": {},
   "outputs": [
    {
     "data": {
      "text/plain": [
       "(712, 37)"
      ]
     },
     "execution_count": 46,
     "metadata": {},
     "output_type": "execute_result"
    }
   ],
   "source": [
    "df1.shape"
   ]
  },
  {
   "cell_type": "code",
   "execution_count": 54,
   "id": "3be9b548",
   "metadata": {},
   "outputs": [],
   "source": [
    "num = df1.select_dtypes(include=\"number\").columns\n",
    "cat = df1.select_dtypes(exclude=\"number\").columns"
   ]
  },
  {
   "cell_type": "code",
   "execution_count": 55,
   "id": "0dad526a",
   "metadata": {},
   "outputs": [],
   "source": [
    "df1[cat] = df1[cat].fillna(\"Not Available\")"
   ]
  },
  {
   "cell_type": "code",
   "execution_count": 56,
   "id": "bddb3796",
   "metadata": {},
   "outputs": [
    {
     "data": {
      "text/plain": [
       "Test Solution      0\n",
       "Test Method        0\n",
       "Heat treatment     0\n",
       "Microstructures    0\n",
       "Comments           0\n",
       "Material class     0\n",
       "dtype: int64"
      ]
     },
     "execution_count": 56,
     "metadata": {},
     "output_type": "execute_result"
    }
   ],
   "source": [
    "df1[cat].isnull().sum()"
   ]
  },
  {
   "cell_type": "code",
   "execution_count": 59,
   "id": "dab23f30",
   "metadata": {},
   "outputs": [],
   "source": [
    "df1.drop(columns=['Reference', 'No.'], inplace=True)"
   ]
  },
  {
   "cell_type": "code",
   "execution_count": 64,
   "id": "84232d52",
   "metadata": {},
   "outputs": [],
   "source": [
    "import sklearn\n",
    "from sklearn.preprocessing import LabelEncoder  \n",
    "le = LabelEncoder()"
   ]
  },
  {
   "cell_type": "code",
   "execution_count": 66,
   "id": "72f6389d",
   "metadata": {},
   "outputs": [],
   "source": [
    "df1['Material class'] = le.fit_transform(df1['Material class'])"
   ]
  },
  {
   "cell_type": "code",
   "execution_count": 68,
   "id": "874d1320",
   "metadata": {},
   "outputs": [],
   "source": [
    "df1.to_csv(\"pit_clean_2.csv\", index=False)"
   ]
  },
  {
   "cell_type": "markdown",
   "id": "83da2277",
   "metadata": {},
   "source": [
    "# Text pre-processing"
   ]
  },
  {
   "cell_type": "code",
   "execution_count": 72,
   "id": "9b899a64",
   "metadata": {},
   "outputs": [],
   "source": [
    "data = pd.read_csv(\"pit_clean_2.csv\")\n"
   ]
  },
  {
   "cell_type": "code",
   "execution_count": 73,
   "id": "9020acbf",
   "metadata": {},
   "outputs": [],
   "source": [
    "txt_col = data.select_dtypes(include=\"object\").columns"
   ]
  },
  {
   "cell_type": "code",
   "execution_count": 74,
   "id": "29228d33",
   "metadata": {},
   "outputs": [
    {
     "data": {
      "text/plain": [
       "Index(['Test Solution', 'Test Method', 'Heat treatment', 'Microstructures',\n",
       "       'Comments'],\n",
       "      dtype='object')"
      ]
     },
     "execution_count": 74,
     "metadata": {},
     "output_type": "execute_result"
    }
   ],
   "source": [
    "txt_col"
   ]
  },
  {
   "cell_type": "code",
   "execution_count": 78,
   "id": "0d122846",
   "metadata": {},
   "outputs": [],
   "source": [
    "df1['combine_text'] = f\"<S> Test Solution: {df1['Test Solution']} || Test Method: {df1['Test Method']} || Heat treatment: {df1['Heat treatment']} || Microstructures: {df1['Microstructures']} || Comments: {df1['Comments']} <\\S>\""
   ]
  },
  {
   "cell_type": "code",
   "execution_count": 80,
   "id": "10917e04",
   "metadata": {},
   "outputs": [],
   "source": [
    "df1.to_csv(\"pit_cleaned_final.csv\", index=False)"
   ]
  }
 ],
 "metadata": {
  "kernelspec": {
   "display_name": "base",
   "language": "python",
   "name": "python3"
  },
  "language_info": {
   "codemirror_mode": {
    "name": "ipython",
    "version": 3
   },
   "file_extension": ".py",
   "mimetype": "text/x-python",
   "name": "python",
   "nbconvert_exporter": "python",
   "pygments_lexer": "ipython3",
   "version": "3.11.5"
  }
 },
 "nbformat": 4,
 "nbformat_minor": 5
}
